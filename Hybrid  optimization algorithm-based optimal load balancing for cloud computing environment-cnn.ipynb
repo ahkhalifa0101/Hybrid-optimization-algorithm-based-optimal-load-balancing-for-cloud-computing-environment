{
 "cells": [
  {
   "cell_type": "code",
   "execution_count": 16,
   "metadata": {
    "execution": {
     "iopub.execute_input": "2025-03-05T06:24:57.626842Z",
     "iopub.status.busy": "2025-03-05T06:24:57.626556Z",
     "iopub.status.idle": "2025-03-05T06:25:02.505903Z",
     "shell.execute_reply": "2025-03-05T06:25:02.504903Z",
     "shell.execute_reply.started": "2025-03-05T06:24:57.626818Z"
    }
   },
   "outputs": [
    {
     "name": "stdout",
     "output_type": "stream",
     "text": [
      "Collecting pyswarms\n",
      "  Downloading pyswarms-1.3.0-py2.py3-none-any.whl.metadata (33 kB)\n",
      "Requirement already satisfied: scipy in /usr/local/lib/python3.10/dist-packages (from pyswarms) (1.13.1)\n",
      "Requirement already satisfied: numpy in /usr/local/lib/python3.10/dist-packages (from pyswarms) (1.26.4)\n",
      "Requirement already satisfied: matplotlib>=1.3.1 in /usr/local/lib/python3.10/dist-packages (from pyswarms) (3.7.5)\n",
      "Requirement already satisfied: attrs in /usr/local/lib/python3.10/dist-packages (from pyswarms) (24.3.0)\n",
      "Requirement already satisfied: tqdm in /usr/local/lib/python3.10/dist-packages (from pyswarms) (4.67.1)\n",
      "Requirement already satisfied: future in /usr/local/lib/python3.10/dist-packages (from pyswarms) (1.0.0)\n",
      "Requirement already satisfied: pyyaml in /usr/local/lib/python3.10/dist-packages (from pyswarms) (6.0.2)\n",
      "Requirement already satisfied: contourpy>=1.0.1 in /usr/local/lib/python3.10/dist-packages (from matplotlib>=1.3.1->pyswarms) (1.3.1)\n",
      "Requirement already satisfied: cycler>=0.10 in /usr/local/lib/python3.10/dist-packages (from matplotlib>=1.3.1->pyswarms) (0.12.1)\n",
      "Requirement already satisfied: fonttools>=4.22.0 in /usr/local/lib/python3.10/dist-packages (from matplotlib>=1.3.1->pyswarms) (4.55.3)\n",
      "Requirement already satisfied: kiwisolver>=1.0.1 in /usr/local/lib/python3.10/dist-packages (from matplotlib>=1.3.1->pyswarms) (1.4.7)\n",
      "Requirement already satisfied: packaging>=20.0 in /usr/local/lib/python3.10/dist-packages (from matplotlib>=1.3.1->pyswarms) (24.2)\n",
      "Requirement already satisfied: pillow>=6.2.0 in /usr/local/lib/python3.10/dist-packages (from matplotlib>=1.3.1->pyswarms) (11.0.0)\n",
      "Requirement already satisfied: pyparsing>=2.3.1 in /usr/local/lib/python3.10/dist-packages (from matplotlib>=1.3.1->pyswarms) (3.2.0)\n",
      "Requirement already satisfied: python-dateutil>=2.7 in /usr/local/lib/python3.10/dist-packages (from matplotlib>=1.3.1->pyswarms) (2.8.2)\n",
      "Requirement already satisfied: mkl_fft in /usr/local/lib/python3.10/dist-packages (from numpy->pyswarms) (1.3.8)\n",
      "Requirement already satisfied: mkl_random in /usr/local/lib/python3.10/dist-packages (from numpy->pyswarms) (1.2.4)\n",
      "Requirement already satisfied: mkl_umath in /usr/local/lib/python3.10/dist-packages (from numpy->pyswarms) (0.1.1)\n",
      "Requirement already satisfied: mkl in /usr/local/lib/python3.10/dist-packages (from numpy->pyswarms) (2025.0.1)\n",
      "Requirement already satisfied: tbb4py in /usr/local/lib/python3.10/dist-packages (from numpy->pyswarms) (2022.0.0)\n",
      "Requirement already satisfied: mkl-service in /usr/local/lib/python3.10/dist-packages (from numpy->pyswarms) (2.4.1)\n",
      "Requirement already satisfied: six>=1.5 in /usr/local/lib/python3.10/dist-packages (from python-dateutil>=2.7->matplotlib>=1.3.1->pyswarms) (1.17.0)\n",
      "Requirement already satisfied: intel-openmp>=2024 in /usr/local/lib/python3.10/dist-packages (from mkl->numpy->pyswarms) (2024.2.0)\n",
      "Requirement already satisfied: tbb==2022.* in /usr/local/lib/python3.10/dist-packages (from mkl->numpy->pyswarms) (2022.0.0)\n",
      "Requirement already satisfied: tcmlib==1.* in /usr/local/lib/python3.10/dist-packages (from tbb==2022.*->mkl->numpy->pyswarms) (1.2.0)\n",
      "Requirement already satisfied: intel-cmplr-lib-rt in /usr/local/lib/python3.10/dist-packages (from mkl_umath->numpy->pyswarms) (2024.2.0)\n",
      "Requirement already satisfied: intel-cmplr-lib-ur==2024.2.0 in /usr/local/lib/python3.10/dist-packages (from intel-openmp>=2024->mkl->numpy->pyswarms) (2024.2.0)\n",
      "Downloading pyswarms-1.3.0-py2.py3-none-any.whl (104 kB)\n",
      "\u001b[2K   \u001b[90m━━━━━━━━━━━━━━━━━━━━━━━━━━━━━━━━━━━━━━━━\u001b[0m \u001b[32m104.1/104.1 kB\u001b[0m \u001b[31m4.1 MB/s\u001b[0m eta \u001b[36m0:00:00\u001b[0m\n",
      "\u001b[?25hInstalling collected packages: pyswarms\n",
      "Successfully installed pyswarms-1.3.0\n"
     ]
    }
   ],
   "source": [
    "!pip install pyswarms"
   ]
  },
  {
   "cell_type": "code",
   "execution_count": 17,
   "metadata": {
    "execution": {
     "iopub.execute_input": "2025-03-05T06:25:02.507578Z",
     "iopub.status.busy": "2025-03-05T06:25:02.507272Z",
     "iopub.status.idle": "2025-03-05T06:25:05.834595Z",
     "shell.execute_reply": "2025-03-05T06:25:05.833502Z",
     "shell.execute_reply.started": "2025-03-05T06:25:02.507552Z"
    }
   },
   "outputs": [
    {
     "name": "stdout",
     "output_type": "stream",
     "text": [
      "Requirement already satisfied: tensorflow in /usr/local/lib/python3.10/dist-packages (2.17.1)\n",
      "Requirement already satisfied: keras-tuner in /usr/local/lib/python3.10/dist-packages (1.4.7)\n",
      "Requirement already satisfied: scikit-learn in /usr/local/lib/python3.10/dist-packages (1.2.2)\n",
      "Requirement already satisfied: pandas in /usr/local/lib/python3.10/dist-packages (2.2.2)\n",
      "Requirement already satisfied: numpy in /usr/local/lib/python3.10/dist-packages (1.26.4)\n",
      "Requirement already satisfied: matplotlib in /usr/local/lib/python3.10/dist-packages (3.7.5)\n",
      "Requirement already satisfied: absl-py>=1.0.0 in /usr/local/lib/python3.10/dist-packages (from tensorflow) (1.4.0)\n",
      "Requirement already satisfied: astunparse>=1.6.0 in /usr/local/lib/python3.10/dist-packages (from tensorflow) (1.6.3)\n",
      "Requirement already satisfied: flatbuffers>=24.3.25 in /usr/local/lib/python3.10/dist-packages (from tensorflow) (24.3.25)\n",
      "Requirement already satisfied: gast!=0.5.0,!=0.5.1,!=0.5.2,>=0.2.1 in /usr/local/lib/python3.10/dist-packages (from tensorflow) (0.6.0)\n",
      "Requirement already satisfied: google-pasta>=0.1.1 in /usr/local/lib/python3.10/dist-packages (from tensorflow) (0.2.0)\n",
      "Requirement already satisfied: h5py>=3.10.0 in /usr/local/lib/python3.10/dist-packages (from tensorflow) (3.12.1)\n",
      "Requirement already satisfied: libclang>=13.0.0 in /usr/local/lib/python3.10/dist-packages (from tensorflow) (18.1.1)\n",
      "Requirement already satisfied: ml-dtypes<0.5.0,>=0.3.1 in /usr/local/lib/python3.10/dist-packages (from tensorflow) (0.4.1)\n",
      "Requirement already satisfied: opt-einsum>=2.3.2 in /usr/local/lib/python3.10/dist-packages (from tensorflow) (3.4.0)\n",
      "Requirement already satisfied: packaging in /usr/local/lib/python3.10/dist-packages (from tensorflow) (24.2)\n",
      "Requirement already satisfied: protobuf!=4.21.0,!=4.21.1,!=4.21.2,!=4.21.3,!=4.21.4,!=4.21.5,<5.0.0dev,>=3.20.3 in /usr/local/lib/python3.10/dist-packages (from tensorflow) (3.20.3)\n",
      "Requirement already satisfied: requests<3,>=2.21.0 in /usr/local/lib/python3.10/dist-packages (from tensorflow) (2.32.3)\n",
      "Requirement already satisfied: setuptools in /usr/local/lib/python3.10/dist-packages (from tensorflow) (75.1.0)\n",
      "Requirement already satisfied: six>=1.12.0 in /usr/local/lib/python3.10/dist-packages (from tensorflow) (1.17.0)\n",
      "Requirement already satisfied: termcolor>=1.1.0 in /usr/local/lib/python3.10/dist-packages (from tensorflow) (2.5.0)\n",
      "Requirement already satisfied: typing-extensions>=3.6.6 in /usr/local/lib/python3.10/dist-packages (from tensorflow) (4.12.2)\n",
      "Requirement already satisfied: wrapt>=1.11.0 in /usr/local/lib/python3.10/dist-packages (from tensorflow) (1.17.0)\n",
      "Requirement already satisfied: grpcio<2.0,>=1.24.3 in /usr/local/lib/python3.10/dist-packages (from tensorflow) (1.68.1)\n",
      "Requirement already satisfied: tensorboard<2.18,>=2.17 in /usr/local/lib/python3.10/dist-packages (from tensorflow) (2.17.1)\n",
      "Requirement already satisfied: keras>=3.2.0 in /usr/local/lib/python3.10/dist-packages (from tensorflow) (3.5.0)\n",
      "Requirement already satisfied: tensorflow-io-gcs-filesystem>=0.23.1 in /usr/local/lib/python3.10/dist-packages (from tensorflow) (0.37.1)\n",
      "Requirement already satisfied: kt-legacy in /usr/local/lib/python3.10/dist-packages (from keras-tuner) (1.0.5)\n",
      "Requirement already satisfied: scipy>=1.3.2 in /usr/local/lib/python3.10/dist-packages (from scikit-learn) (1.13.1)\n",
      "Requirement already satisfied: joblib>=1.1.1 in /usr/local/lib/python3.10/dist-packages (from scikit-learn) (1.4.2)\n",
      "Requirement already satisfied: threadpoolctl>=2.0.0 in /usr/local/lib/python3.10/dist-packages (from scikit-learn) (3.5.0)\n",
      "Requirement already satisfied: python-dateutil>=2.8.2 in /usr/local/lib/python3.10/dist-packages (from pandas) (2.8.2)\n",
      "Requirement already satisfied: pytz>=2020.1 in /usr/local/lib/python3.10/dist-packages (from pandas) (2024.2)\n",
      "Requirement already satisfied: tzdata>=2022.7 in /usr/local/lib/python3.10/dist-packages (from pandas) (2024.2)\n",
      "Requirement already satisfied: mkl_fft in /usr/local/lib/python3.10/dist-packages (from numpy) (1.3.8)\n",
      "Requirement already satisfied: mkl_random in /usr/local/lib/python3.10/dist-packages (from numpy) (1.2.4)\n",
      "Requirement already satisfied: mkl_umath in /usr/local/lib/python3.10/dist-packages (from numpy) (0.1.1)\n",
      "Requirement already satisfied: mkl in /usr/local/lib/python3.10/dist-packages (from numpy) (2025.0.1)\n",
      "Requirement already satisfied: tbb4py in /usr/local/lib/python3.10/dist-packages (from numpy) (2022.0.0)\n",
      "Requirement already satisfied: mkl-service in /usr/local/lib/python3.10/dist-packages (from numpy) (2.4.1)\n",
      "Requirement already satisfied: contourpy>=1.0.1 in /usr/local/lib/python3.10/dist-packages (from matplotlib) (1.3.1)\n",
      "Requirement already satisfied: cycler>=0.10 in /usr/local/lib/python3.10/dist-packages (from matplotlib) (0.12.1)\n",
      "Requirement already satisfied: fonttools>=4.22.0 in /usr/local/lib/python3.10/dist-packages (from matplotlib) (4.55.3)\n",
      "Requirement already satisfied: kiwisolver>=1.0.1 in /usr/local/lib/python3.10/dist-packages (from matplotlib) (1.4.7)\n",
      "Requirement already satisfied: pillow>=6.2.0 in /usr/local/lib/python3.10/dist-packages (from matplotlib) (11.0.0)\n",
      "Requirement already satisfied: pyparsing>=2.3.1 in /usr/local/lib/python3.10/dist-packages (from matplotlib) (3.2.0)\n",
      "Requirement already satisfied: wheel<1.0,>=0.23.0 in /usr/local/lib/python3.10/dist-packages (from astunparse>=1.6.0->tensorflow) (0.45.1)\n",
      "Requirement already satisfied: rich in /usr/local/lib/python3.10/dist-packages (from keras>=3.2.0->tensorflow) (13.9.4)\n",
      "Requirement already satisfied: namex in /usr/local/lib/python3.10/dist-packages (from keras>=3.2.0->tensorflow) (0.0.8)\n",
      "Requirement already satisfied: optree in /usr/local/lib/python3.10/dist-packages (from keras>=3.2.0->tensorflow) (0.13.1)\n",
      "Requirement already satisfied: charset-normalizer<4,>=2 in /usr/local/lib/python3.10/dist-packages (from requests<3,>=2.21.0->tensorflow) (3.4.0)\n",
      "Requirement already satisfied: idna<4,>=2.5 in /usr/local/lib/python3.10/dist-packages (from requests<3,>=2.21.0->tensorflow) (3.10)\n",
      "Requirement already satisfied: urllib3<3,>=1.21.1 in /usr/local/lib/python3.10/dist-packages (from requests<3,>=2.21.0->tensorflow) (2.2.3)\n",
      "Requirement already satisfied: certifi>=2017.4.17 in /usr/local/lib/python3.10/dist-packages (from requests<3,>=2.21.0->tensorflow) (2024.12.14)\n",
      "Requirement already satisfied: markdown>=2.6.8 in /usr/local/lib/python3.10/dist-packages (from tensorboard<2.18,>=2.17->tensorflow) (3.7)\n",
      "Requirement already satisfied: tensorboard-data-server<0.8.0,>=0.7.0 in /usr/local/lib/python3.10/dist-packages (from tensorboard<2.18,>=2.17->tensorflow) (0.7.2)\n",
      "Requirement already satisfied: werkzeug>=1.0.1 in /usr/local/lib/python3.10/dist-packages (from tensorboard<2.18,>=2.17->tensorflow) (3.1.3)\n",
      "Requirement already satisfied: intel-openmp>=2024 in /usr/local/lib/python3.10/dist-packages (from mkl->numpy) (2024.2.0)\n",
      "Requirement already satisfied: tbb==2022.* in /usr/local/lib/python3.10/dist-packages (from mkl->numpy) (2022.0.0)\n",
      "Requirement already satisfied: tcmlib==1.* in /usr/local/lib/python3.10/dist-packages (from tbb==2022.*->mkl->numpy) (1.2.0)\n",
      "Requirement already satisfied: intel-cmplr-lib-rt in /usr/local/lib/python3.10/dist-packages (from mkl_umath->numpy) (2024.2.0)\n",
      "Requirement already satisfied: intel-cmplr-lib-ur==2024.2.0 in /usr/local/lib/python3.10/dist-packages (from intel-openmp>=2024->mkl->numpy) (2024.2.0)\n",
      "Requirement already satisfied: MarkupSafe>=2.1.1 in /usr/local/lib/python3.10/dist-packages (from werkzeug>=1.0.1->tensorboard<2.18,>=2.17->tensorflow) (3.0.2)\n",
      "Requirement already satisfied: markdown-it-py>=2.2.0 in /usr/local/lib/python3.10/dist-packages (from rich->keras>=3.2.0->tensorflow) (3.0.0)\n",
      "Requirement already satisfied: pygments<3.0.0,>=2.13.0 in /usr/local/lib/python3.10/dist-packages (from rich->keras>=3.2.0->tensorflow) (2.18.0)\n",
      "Requirement already satisfied: mdurl~=0.1 in /usr/local/lib/python3.10/dist-packages (from markdown-it-py>=2.2.0->rich->keras>=3.2.0->tensorflow) (0.1.2)\n",
      "Note: you may need to restart the kernel to use updated packages.\n"
     ]
    }
   ],
   "source": [
    "pip install tensorflow keras-tuner scikit-learn pandas numpy matplotlib"
   ]
  },
  {
   "cell_type": "code",
   "execution_count": 14,
   "metadata": {
    "execution": {
     "iopub.execute_input": "2025-03-15T20:17:05.346194Z",
     "iopub.status.busy": "2025-03-15T20:17:05.345887Z",
     "iopub.status.idle": "2025-03-15T20:17:05.351866Z",
     "shell.execute_reply": "2025-03-15T20:17:05.350835Z",
     "shell.execute_reply.started": "2025-03-15T20:17:05.346171Z"
    }
   },
   "outputs": [],
   "source": [
    "import numpy as np\n",
    "import pandas as pd\n",
    "import matplotlib.pyplot as plt\n",
    "from sklearn.preprocessing import StandardScaler, OneHotEncoder\n",
    "from sklearn.model_selection import train_test_split, StratifiedKFold\n",
    "from sklearn.metrics import classification_report, confusion_matrix, roc_auc_score\n",
    "from sklearn.impute import SimpleImputer\n",
    "from sklearn.compose import ColumnTransformer\n",
    "from sklearn.feature_selection import mutual_info_classif, SelectKBest\n",
    "from imblearn.over_sampling import SMOTE\n",
    "from imblearn.pipeline import Pipeline\n",
    "import tensorflow as tf\n",
    "from tensorflow.keras.models import Sequential\n",
    "from tensorflow.keras.layers import Conv1D, MaxPooling1D, Flatten, Dense, Dropout, BatchNormalization\n",
    "from tensorflow.keras.callbacks import EarlyStopping, ModelCheckpoint, ReduceLROnPlateau\n",
    "from tensorflow.keras.optimizers import Adam\n",
    "from keras_tuner import RandomSearch"
   ]
  },
  {
   "cell_type": "code",
   "execution_count": 15,
   "metadata": {
    "execution": {
     "iopub.execute_input": "2025-03-15T20:17:07.887693Z",
     "iopub.status.busy": "2025-03-15T20:17:07.887191Z",
     "iopub.status.idle": "2025-03-15T20:17:14.621607Z",
     "shell.execute_reply": "2025-03-15T20:17:14.620538Z",
     "shell.execute_reply.started": "2025-03-15T20:17:07.887650Z"
    }
   },
   "outputs": [
    {
     "name": "stderr",
     "output_type": "stream",
     "text": [
      "/usr/local/lib/python3.10/dist-packages/pandas/io/formats/format.py:1458: RuntimeWarning: invalid value encountered in greater\n",
      "  has_large_values = (abs_vals > 1e6).any()\n",
      "/usr/local/lib/python3.10/dist-packages/pandas/io/formats/format.py:1459: RuntimeWarning: invalid value encountered in less\n",
      "  has_small_values = ((abs_vals < 10 ** (-self.digits)) & (abs_vals > 0)).any()\n",
      "/usr/local/lib/python3.10/dist-packages/pandas/io/formats/format.py:1459: RuntimeWarning: invalid value encountered in greater\n",
      "  has_small_values = ((abs_vals < 10 ** (-self.digits)) & (abs_vals > 0)).any()\n"
     ]
    },
    {
     "data": {
      "text/html": [
       "<div>\n",
       "<style scoped>\n",
       "    .dataframe tbody tr th:only-of-type {\n",
       "        vertical-align: middle;\n",
       "    }\n",
       "\n",
       "    .dataframe tbody tr th {\n",
       "        vertical-align: top;\n",
       "    }\n",
       "\n",
       "    .dataframe thead th {\n",
       "        text-align: right;\n",
       "    }\n",
       "</style>\n",
       "<table border=\"1\" class=\"dataframe\">\n",
       "  <thead>\n",
       "    <tr style=\"text-align: right;\">\n",
       "      <th></th>\n",
       "      <th>vm_id</th>\n",
       "      <th>timestamp</th>\n",
       "      <th>cpu_usage</th>\n",
       "      <th>memory_usage</th>\n",
       "      <th>network_traffic</th>\n",
       "      <th>power_consumption</th>\n",
       "      <th>num_executed_instructions</th>\n",
       "      <th>execution_time</th>\n",
       "      <th>energy_efficiency</th>\n",
       "      <th>task_type</th>\n",
       "      <th>task_priority</th>\n",
       "      <th>task_status</th>\n",
       "    </tr>\n",
       "  </thead>\n",
       "  <tbody>\n",
       "    <tr>\n",
       "      <th>0</th>\n",
       "      <td>c5215826-6237-4a33-9312-72c1df909881</td>\n",
       "      <td>2023-01-25 09:10:54</td>\n",
       "      <td>54.881350</td>\n",
       "      <td>78.950861</td>\n",
       "      <td>164.775973</td>\n",
       "      <td>287.808986</td>\n",
       "      <td>7527.0</td>\n",
       "      <td>69.345575</td>\n",
       "      <td>0.553589</td>\n",
       "      <td>network</td>\n",
       "      <td>medium</td>\n",
       "      <td>waiting</td>\n",
       "    </tr>\n",
       "    <tr>\n",
       "      <th>1</th>\n",
       "      <td>29690bc6-1f34-403b-b509-a1ecb1834fb8</td>\n",
       "      <td>2023-01-26 04:46:34</td>\n",
       "      <td>71.518937</td>\n",
       "      <td>29.901883</td>\n",
       "      <td>NaN</td>\n",
       "      <td>362.273569</td>\n",
       "      <td>5348.0</td>\n",
       "      <td>41.396040</td>\n",
       "      <td>0.349856</td>\n",
       "      <td>io</td>\n",
       "      <td>high</td>\n",
       "      <td>completed</td>\n",
       "    </tr>\n",
       "    <tr>\n",
       "      <th>2</th>\n",
       "      <td>2e55abc3-5bad-46cb-b445-a577f5e9bf2a</td>\n",
       "      <td>2023-01-13 23:39:47</td>\n",
       "      <td>NaN</td>\n",
       "      <td>92.709195</td>\n",
       "      <td>203.674847</td>\n",
       "      <td>231.467903</td>\n",
       "      <td>5483.0</td>\n",
       "      <td>24.602549</td>\n",
       "      <td>0.796277</td>\n",
       "      <td>io</td>\n",
       "      <td>medium</td>\n",
       "      <td>completed</td>\n",
       "    </tr>\n",
       "    <tr>\n",
       "      <th>3</th>\n",
       "      <td>e672e32f-c134-4fbc-992b-34eb63bef6bf</td>\n",
       "      <td>2023-02-09 11:45:49</td>\n",
       "      <td>54.488318</td>\n",
       "      <td>88.100960</td>\n",
       "      <td>NaN</td>\n",
       "      <td>195.639954</td>\n",
       "      <td>5876.0</td>\n",
       "      <td>16.456670</td>\n",
       "      <td>0.529511</td>\n",
       "      <td>compute</td>\n",
       "      <td>high</td>\n",
       "      <td>completed</td>\n",
       "    </tr>\n",
       "    <tr>\n",
       "      <th>4</th>\n",
       "      <td>f38b8b50-6926-4533-be4f-89ad11624071</td>\n",
       "      <td>2023-06-14 08:27:26</td>\n",
       "      <td>42.365480</td>\n",
       "      <td>NaN</td>\n",
       "      <td>NaN</td>\n",
       "      <td>359.451537</td>\n",
       "      <td>3361.0</td>\n",
       "      <td>55.307992</td>\n",
       "      <td>0.351907</td>\n",
       "      <td>NaN</td>\n",
       "      <td>medium</td>\n",
       "      <td>waiting</td>\n",
       "    </tr>\n",
       "  </tbody>\n",
       "</table>\n",
       "</div>"
      ],
      "text/plain": [
       "                                  vm_id            timestamp  cpu_usage  \\\n",
       "0  c5215826-6237-4a33-9312-72c1df909881  2023-01-25 09:10:54  54.881350   \n",
       "1  29690bc6-1f34-403b-b509-a1ecb1834fb8  2023-01-26 04:46:34  71.518937   \n",
       "2  2e55abc3-5bad-46cb-b445-a577f5e9bf2a  2023-01-13 23:39:47        NaN   \n",
       "3  e672e32f-c134-4fbc-992b-34eb63bef6bf  2023-02-09 11:45:49  54.488318   \n",
       "4  f38b8b50-6926-4533-be4f-89ad11624071  2023-06-14 08:27:26  42.365480   \n",
       "\n",
       "   memory_usage  network_traffic  power_consumption  \\\n",
       "0     78.950861       164.775973         287.808986   \n",
       "1     29.901883              NaN         362.273569   \n",
       "2     92.709195       203.674847         231.467903   \n",
       "3     88.100960              NaN         195.639954   \n",
       "4           NaN              NaN         359.451537   \n",
       "\n",
       "   num_executed_instructions  execution_time  energy_efficiency task_type  \\\n",
       "0                     7527.0       69.345575           0.553589   network   \n",
       "1                     5348.0       41.396040           0.349856        io   \n",
       "2                     5483.0       24.602549           0.796277        io   \n",
       "3                     5876.0       16.456670           0.529511   compute   \n",
       "4                     3361.0       55.307992           0.351907       NaN   \n",
       "\n",
       "  task_priority task_status  \n",
       "0        medium     waiting  \n",
       "1          high   completed  \n",
       "2        medium   completed  \n",
       "3          high   completed  \n",
       "4        medium     waiting  "
      ]
     },
     "execution_count": 15,
     "metadata": {},
     "output_type": "execute_result"
    }
   ],
   "source": [
    "df = pd.read_csv(\"/kaggle/input/cloud-computing-performance-metrics/vmCloud_data.csv\")\n",
    "\n",
    "df.head()"
   ]
  },
  {
   "cell_type": "code",
   "execution_count": 3,
   "metadata": {
    "execution": {
     "iopub.execute_input": "2025-03-15T12:12:03.367310Z",
     "iopub.status.busy": "2025-03-15T12:12:03.367046Z",
     "iopub.status.idle": "2025-03-15T12:12:03.372509Z",
     "shell.execute_reply": "2025-03-15T12:12:03.371336Z",
     "shell.execute_reply.started": "2025-03-15T12:12:03.367289Z"
    }
   },
   "outputs": [
    {
     "data": {
      "text/plain": [
       "(2000000, 12)"
      ]
     },
     "execution_count": 3,
     "metadata": {},
     "output_type": "execute_result"
    }
   ],
   "source": [
    "df.shape"
   ]
  },
  {
   "cell_type": "code",
   "execution_count": 40,
   "metadata": {
    "execution": {
     "iopub.execute_input": "2025-03-05T06:32:42.627707Z",
     "iopub.status.busy": "2025-03-05T06:32:42.627347Z",
     "iopub.status.idle": "2025-03-05T06:32:44.065779Z",
     "shell.execute_reply": "2025-03-05T06:32:44.064992Z",
     "shell.execute_reply.started": "2025-03-05T06:32:42.627679Z"
    }
   },
   "outputs": [
    {
     "name": "stderr",
     "output_type": "stream",
     "text": [
      "<ipython-input-40-1c3ca3487565>:2: FutureWarning: DataFrame.fillna with 'method' is deprecated and will raise in a future version. Use obj.ffill() or obj.bfill() instead.\n",
      "  df = df.fillna(method='ffill')\n"
     ]
    },
    {
     "data": {
      "text/plain": [
       "(2000000, 12)"
      ]
     },
     "execution_count": 40,
     "metadata": {},
     "output_type": "execute_result"
    }
   ],
   "source": [
    "# Handle missing values\n",
    "df = df.fillna(method='ffill')\n",
    "\n",
    "\n",
    "df.shape"
   ]
  },
  {
   "cell_type": "code",
   "execution_count": 16,
   "metadata": {
    "execution": {
     "iopub.execute_input": "2025-03-15T20:17:14.623355Z",
     "iopub.status.busy": "2025-03-15T20:17:14.622991Z",
     "iopub.status.idle": "2025-03-15T20:17:22.132432Z",
     "shell.execute_reply": "2025-03-15T20:17:22.131522Z",
     "shell.execute_reply.started": "2025-03-15T20:17:14.623299Z"
    }
   },
   "outputs": [],
   "source": [
    "def clean_data(df):\n",
    "    # Drop irrelevant columns\n",
    "    df = df.drop(columns=['vm_id', 'timestamp'])\n",
    "    \n",
    "    # Handle missing values\n",
    "    # Numerical columns: Impute with median\n",
    "    num_cols = df.select_dtypes(include=np.number).columns\n",
    "    num_imputer = SimpleImputer(strategy='median')\n",
    "    df[num_cols] = num_imputer.fit_transform(df[num_cols])\n",
    "    \n",
    "    # Categorical columns: Impute with mode\n",
    "    cat_cols = df.select_dtypes(include='object').columns.drop('task_status')\n",
    "    cat_imputer = SimpleImputer(strategy='most_frequent')\n",
    "    df[cat_cols] = cat_imputer.fit_transform(df[cat_cols])\n",
    "    \n",
    "    # Remove duplicates\n",
    "    df = df.drop_duplicates()\n",
    "    \n",
    "    return df\n",
    "\n",
    "cleaned_df = clean_data(df)\n"
   ]
  },
  {
   "cell_type": "code",
   "execution_count": 4,
   "metadata": {
    "execution": {
     "iopub.execute_input": "2025-03-15T13:53:41.277685Z",
     "iopub.status.busy": "2025-03-15T13:53:41.277466Z",
     "iopub.status.idle": "2025-03-15T13:53:41.289715Z",
     "shell.execute_reply": "2025-03-15T13:53:41.288935Z",
     "shell.execute_reply.started": "2025-03-15T13:53:41.277665Z"
    }
   },
   "outputs": [
    {
     "data": {
      "text/html": [
       "<div>\n",
       "<style scoped>\n",
       "    .dataframe tbody tr th:only-of-type {\n",
       "        vertical-align: middle;\n",
       "    }\n",
       "\n",
       "    .dataframe tbody tr th {\n",
       "        vertical-align: top;\n",
       "    }\n",
       "\n",
       "    .dataframe thead th {\n",
       "        text-align: right;\n",
       "    }\n",
       "</style>\n",
       "<table border=\"1\" class=\"dataframe\">\n",
       "  <thead>\n",
       "    <tr style=\"text-align: right;\">\n",
       "      <th></th>\n",
       "      <th>cpu_usage</th>\n",
       "      <th>memory_usage</th>\n",
       "      <th>network_traffic</th>\n",
       "      <th>power_consumption</th>\n",
       "      <th>num_executed_instructions</th>\n",
       "      <th>execution_time</th>\n",
       "      <th>energy_efficiency</th>\n",
       "      <th>task_type</th>\n",
       "      <th>task_priority</th>\n",
       "      <th>task_status</th>\n",
       "    </tr>\n",
       "  </thead>\n",
       "  <tbody>\n",
       "    <tr>\n",
       "      <th>0</th>\n",
       "      <td>54.881350</td>\n",
       "      <td>78.950861</td>\n",
       "      <td>164.775973</td>\n",
       "      <td>287.808986</td>\n",
       "      <td>7527.0</td>\n",
       "      <td>69.345575</td>\n",
       "      <td>0.553589</td>\n",
       "      <td>network</td>\n",
       "      <td>medium</td>\n",
       "      <td>waiting</td>\n",
       "    </tr>\n",
       "    <tr>\n",
       "      <th>1</th>\n",
       "      <td>71.518937</td>\n",
       "      <td>29.901883</td>\n",
       "      <td>500.007595</td>\n",
       "      <td>362.273569</td>\n",
       "      <td>5348.0</td>\n",
       "      <td>41.396040</td>\n",
       "      <td>0.349856</td>\n",
       "      <td>io</td>\n",
       "      <td>high</td>\n",
       "      <td>completed</td>\n",
       "    </tr>\n",
       "    <tr>\n",
       "      <th>2</th>\n",
       "      <td>50.054758</td>\n",
       "      <td>92.709195</td>\n",
       "      <td>203.674847</td>\n",
       "      <td>231.467903</td>\n",
       "      <td>5483.0</td>\n",
       "      <td>24.602549</td>\n",
       "      <td>0.796277</td>\n",
       "      <td>io</td>\n",
       "      <td>medium</td>\n",
       "      <td>completed</td>\n",
       "    </tr>\n",
       "    <tr>\n",
       "      <th>3</th>\n",
       "      <td>54.488318</td>\n",
       "      <td>88.100960</td>\n",
       "      <td>500.007595</td>\n",
       "      <td>195.639954</td>\n",
       "      <td>5876.0</td>\n",
       "      <td>16.456670</td>\n",
       "      <td>0.529511</td>\n",
       "      <td>compute</td>\n",
       "      <td>high</td>\n",
       "      <td>completed</td>\n",
       "    </tr>\n",
       "    <tr>\n",
       "      <th>4</th>\n",
       "      <td>42.365480</td>\n",
       "      <td>49.976089</td>\n",
       "      <td>500.007595</td>\n",
       "      <td>359.451537</td>\n",
       "      <td>3361.0</td>\n",
       "      <td>55.307992</td>\n",
       "      <td>0.351907</td>\n",
       "      <td>io</td>\n",
       "      <td>medium</td>\n",
       "      <td>waiting</td>\n",
       "    </tr>\n",
       "  </tbody>\n",
       "</table>\n",
       "</div>"
      ],
      "text/plain": [
       "   cpu_usage  memory_usage  network_traffic  power_consumption  \\\n",
       "0  54.881350     78.950861       164.775973         287.808986   \n",
       "1  71.518937     29.901883       500.007595         362.273569   \n",
       "2  50.054758     92.709195       203.674847         231.467903   \n",
       "3  54.488318     88.100960       500.007595         195.639954   \n",
       "4  42.365480     49.976089       500.007595         359.451537   \n",
       "\n",
       "   num_executed_instructions  execution_time  energy_efficiency task_type  \\\n",
       "0                     7527.0       69.345575           0.553589   network   \n",
       "1                     5348.0       41.396040           0.349856        io   \n",
       "2                     5483.0       24.602549           0.796277        io   \n",
       "3                     5876.0       16.456670           0.529511   compute   \n",
       "4                     3361.0       55.307992           0.351907        io   \n",
       "\n",
       "  task_priority task_status  \n",
       "0        medium     waiting  \n",
       "1          high   completed  \n",
       "2        medium   completed  \n",
       "3          high   completed  \n",
       "4        medium     waiting  "
      ]
     },
     "execution_count": 4,
     "metadata": {},
     "output_type": "execute_result"
    }
   ],
   "source": [
    "cleaned_df.head()"
   ]
  },
  {
   "cell_type": "code",
   "execution_count": 17,
   "metadata": {
    "execution": {
     "iopub.execute_input": "2025-03-15T20:17:22.133922Z",
     "iopub.status.busy": "2025-03-15T20:17:22.133687Z",
     "iopub.status.idle": "2025-03-15T20:17:22.228521Z",
     "shell.execute_reply": "2025-03-15T20:17:22.227578Z",
     "shell.execute_reply.started": "2025-03-15T20:17:22.133901Z"
    }
   },
   "outputs": [
    {
     "data": {
      "text/html": [
       "<div>\n",
       "<style scoped>\n",
       "    .dataframe tbody tr th:only-of-type {\n",
       "        vertical-align: middle;\n",
       "    }\n",
       "\n",
       "    .dataframe tbody tr th {\n",
       "        vertical-align: top;\n",
       "    }\n",
       "\n",
       "    .dataframe thead th {\n",
       "        text-align: right;\n",
       "    }\n",
       "</style>\n",
       "<table border=\"1\" class=\"dataframe\">\n",
       "  <thead>\n",
       "    <tr style=\"text-align: right;\">\n",
       "      <th></th>\n",
       "      <th>cpu_usage</th>\n",
       "      <th>memory_usage</th>\n",
       "      <th>network_traffic</th>\n",
       "      <th>power_consumption</th>\n",
       "      <th>num_executed_instructions</th>\n",
       "      <th>execution_time</th>\n",
       "      <th>energy_efficiency</th>\n",
       "      <th>task_type</th>\n",
       "      <th>task_priority</th>\n",
       "      <th>task_status</th>\n",
       "    </tr>\n",
       "  </thead>\n",
       "  <tbody>\n",
       "    <tr>\n",
       "      <th>0</th>\n",
       "      <td>54.881350</td>\n",
       "      <td>78.950861</td>\n",
       "      <td>164.775973</td>\n",
       "      <td>287.808986</td>\n",
       "      <td>7527.0</td>\n",
       "      <td>69.345575</td>\n",
       "      <td>0.553589</td>\n",
       "      <td>network</td>\n",
       "      <td>medium</td>\n",
       "      <td>1</td>\n",
       "    </tr>\n",
       "    <tr>\n",
       "      <th>1</th>\n",
       "      <td>71.518937</td>\n",
       "      <td>29.901883</td>\n",
       "      <td>500.007595</td>\n",
       "      <td>362.273569</td>\n",
       "      <td>5348.0</td>\n",
       "      <td>41.396040</td>\n",
       "      <td>0.349856</td>\n",
       "      <td>io</td>\n",
       "      <td>high</td>\n",
       "      <td>0</td>\n",
       "    </tr>\n",
       "    <tr>\n",
       "      <th>2</th>\n",
       "      <td>50.054758</td>\n",
       "      <td>92.709195</td>\n",
       "      <td>203.674847</td>\n",
       "      <td>231.467903</td>\n",
       "      <td>5483.0</td>\n",
       "      <td>24.602549</td>\n",
       "      <td>0.796277</td>\n",
       "      <td>io</td>\n",
       "      <td>medium</td>\n",
       "      <td>0</td>\n",
       "    </tr>\n",
       "    <tr>\n",
       "      <th>3</th>\n",
       "      <td>54.488318</td>\n",
       "      <td>88.100960</td>\n",
       "      <td>500.007595</td>\n",
       "      <td>195.639954</td>\n",
       "      <td>5876.0</td>\n",
       "      <td>16.456670</td>\n",
       "      <td>0.529511</td>\n",
       "      <td>compute</td>\n",
       "      <td>high</td>\n",
       "      <td>0</td>\n",
       "    </tr>\n",
       "    <tr>\n",
       "      <th>4</th>\n",
       "      <td>42.365480</td>\n",
       "      <td>49.976089</td>\n",
       "      <td>500.007595</td>\n",
       "      <td>359.451537</td>\n",
       "      <td>3361.0</td>\n",
       "      <td>55.307992</td>\n",
       "      <td>0.351907</td>\n",
       "      <td>io</td>\n",
       "      <td>medium</td>\n",
       "      <td>1</td>\n",
       "    </tr>\n",
       "  </tbody>\n",
       "</table>\n",
       "</div>"
      ],
      "text/plain": [
       "   cpu_usage  memory_usage  network_traffic  power_consumption  \\\n",
       "0  54.881350     78.950861       164.775973         287.808986   \n",
       "1  71.518937     29.901883       500.007595         362.273569   \n",
       "2  50.054758     92.709195       203.674847         231.467903   \n",
       "3  54.488318     88.100960       500.007595         195.639954   \n",
       "4  42.365480     49.976089       500.007595         359.451537   \n",
       "\n",
       "   num_executed_instructions  execution_time  energy_efficiency task_type  \\\n",
       "0                     7527.0       69.345575           0.553589   network   \n",
       "1                     5348.0       41.396040           0.349856        io   \n",
       "2                     5483.0       24.602549           0.796277        io   \n",
       "3                     5876.0       16.456670           0.529511   compute   \n",
       "4                     3361.0       55.307992           0.351907        io   \n",
       "\n",
       "  task_priority  task_status  \n",
       "0        medium            1  \n",
       "1          high            0  \n",
       "2        medium            0  \n",
       "3          high            0  \n",
       "4        medium            1  "
      ]
     },
     "execution_count": 17,
     "metadata": {},
     "output_type": "execute_result"
    }
   ],
   "source": [
    "# Target Conversion\n",
    "cleaned_df['task_status'] = np.where(\n",
    "    cleaned_df['task_status'].isin(['completed', 'finished']), 0, 1\n",
    ")\n",
    "\n",
    "cleaned_df.head()"
   ]
  },
  {
   "cell_type": "code",
   "execution_count": 18,
   "metadata": {
    "execution": {
     "iopub.execute_input": "2025-03-15T20:17:23.113265Z",
     "iopub.status.busy": "2025-03-15T20:17:23.112960Z",
     "iopub.status.idle": "2025-03-15T20:27:49.914148Z",
     "shell.execute_reply": "2025-03-15T20:27:49.913397Z",
     "shell.execute_reply.started": "2025-03-15T20:17:23.113240Z"
    }
   },
   "outputs": [],
   "source": [
    "# Advanced Preprocessing Pipeline\n",
    "def preprocess_data(df):\n",
    "    y = df['task_status']\n",
    "    X = df.drop(columns=['task_status'])\n",
    "    \n",
    "    numeric_features = X.select_dtypes(include=np.number).columns\n",
    "    categorical_features = X.select_dtypes(include='object').columns\n",
    "    \n",
    "    # Create stratified k-fold for better validation\n",
    "    skf = StratifiedKFold(n_splits=5, shuffle=True, random_state=42)\n",
    "    \n",
    "    # Build processing pipeline\n",
    "    pipeline = Pipeline([\n",
    "        ('preprocessor', ColumnTransformer([\n",
    "            ('num', StandardScaler(), numeric_features),\n",
    "            ('cat', OneHotEncoder(handle_unknown='ignore'), categorical_features)\n",
    "        ])),\n",
    "        ('feature_selection', SelectKBest(mutual_info_classif, k='all')),\n",
    "        ('smote', SMOTE(sampling_strategy=0.8, random_state=42, k_neighbors=5))\n",
    "    ])\n",
    "    \n",
    "    X_processed, y_processed = pipeline.fit_resample(X, y)\n",
    "    \n",
    "    return train_test_split(\n",
    "        X_processed, y_processed, \n",
    "        test_size=0.2, \n",
    "        stratify=y_processed,\n",
    "        random_state=42\n",
    "    )\n",
    "\n",
    "X_train, X_test, y_train, y_test = preprocess_data(cleaned_df)\n",
    "\n"
   ]
  },
  {
   "cell_type": "code",
   "execution_count": 19,
   "metadata": {
    "execution": {
     "iopub.execute_input": "2025-03-15T20:27:49.915640Z",
     "iopub.status.busy": "2025-03-15T20:27:49.915275Z",
     "iopub.status.idle": "2025-03-15T20:27:53.291698Z",
     "shell.execute_reply": "2025-03-15T20:27:53.290763Z",
     "shell.execute_reply.started": "2025-03-15T20:27:49.915611Z"
    }
   },
   "outputs": [
    {
     "name": "stdout",
     "output_type": "stream",
     "text": [
      "Training sequences shape: (2017258, 10, 13)\n",
      "Test sequences shape: (504307, 10, 13)\n"
     ]
    }
   ],
   "source": [
    "def create_sequences(X, y, seq_length=10):  # Set default sequence length\n",
    "    X_seq, y_seq = [], []\n",
    "    for i in range(len(X) - seq_length):\n",
    "        X_seq.append(X[i:i + seq_length])\n",
    "        y_seq.append(y[i + seq_length])  # Now works with NumPy array indexing\n",
    "    return np.array(X_seq), np.array(y_seq)\n",
    "\n",
    "# Convert sparse matrices to dense arrays first\n",
    "X_train_dense = X_train.toarray() if hasattr(X_train, \"toarray\") else X_train\n",
    "X_test_dense = X_test.toarray() if hasattr(X_test, \"toarray\") else X_test\n",
    "\n",
    "# Convert y_train and y_test to NumPy arrays\n",
    "y_train_array = y_train.values  # Convert to NumPy array\n",
    "y_test_array = y_test.values    # Convert to NumPy array\n",
    "\n",
    "# Create sequences with proper sequence length\n",
    "seq_length = 10  # Optimal for cloud metrics temporal patterns\n",
    "X_train_seq, y_train_seq = create_sequences(X_train_dense, y_train_array, seq_length)\n",
    "X_test_seq, y_test_seq = create_sequences(X_test_dense, y_test_array, seq_length)\n",
    "\n",
    "# Verify shapes\n",
    "print(f\"Training sequences shape: {X_train_seq.shape}\")\n",
    "print(f\"Test sequences shape: {X_test_seq.shape}\")"
   ]
  },
  {
   "cell_type": "code",
   "execution_count": 20,
   "metadata": {
    "execution": {
     "iopub.execute_input": "2025-03-15T20:27:53.293626Z",
     "iopub.status.busy": "2025-03-15T20:27:53.293337Z",
     "iopub.status.idle": "2025-03-15T20:27:53.300599Z",
     "shell.execute_reply": "2025-03-15T20:27:53.299542Z",
     "shell.execute_reply.started": "2025-03-15T20:27:53.293602Z"
    }
   },
   "outputs": [],
   "source": [
    "\n",
    "# Hyperparameter-tuned CNN Model\n",
    "def build_model(hp):\n",
    "    model = Sequential()\n",
    "    model.add(Conv1D(filters=hp.Int('filters', min_value=32, max_value=128, step=32),\n",
    "                     kernel_size=hp.Int('kernel_size', 2, 5),\n",
    "                     activation='relu',\n",
    "                     input_shape=(X_train_seq.shape[1], X_train_seq.shape[2])))\n",
    "    model.add(MaxPooling1D(pool_size=2))\n",
    "    model.add(BatchNormalization())\n",
    "    model.add(Dropout(hp.Float('dropout', 0.2, 0.5)))\n",
    "    \n",
    "    model.add(Flatten())\n",
    "    model.add(Dense(units=hp.Int('dense_units', 32, 128, step=32), activation='relu'))\n",
    "    model.add(Dropout(hp.Float('dropout_dense', 0.2, 0.5)))\n",
    "    model.add(Dense(1, activation='sigmoid'))\n",
    "    \n",
    "    model.compile(\n",
    "        optimizer=Adam(hp.Choice('learning_rate', [1e-3, 5e-4, 1e-4])),\n",
    "        loss='binary_crossentropy',\n",
    "        metrics=[\n",
    "            'accuracy',\n",
    "            tf.keras.metrics.AUC(name='auc'),\n",
    "            tf.keras.metrics.Precision(name='precision'),\n",
    "            tf.keras.metrics.Recall(name='recall')\n",
    "        ]\n",
    "    )\n",
    "    return model\n",
    "\n"
   ]
  },
  {
   "cell_type": "code",
   "execution_count": 21,
   "metadata": {
    "execution": {
     "iopub.execute_input": "2025-03-15T20:27:53.302235Z",
     "iopub.status.busy": "2025-03-15T20:27:53.301960Z",
     "iopub.status.idle": "2025-03-15T20:27:54.866092Z",
     "shell.execute_reply": "2025-03-15T20:27:54.865093Z",
     "shell.execute_reply.started": "2025-03-15T20:27:53.302212Z"
    }
   },
   "outputs": [
    {
     "name": "stdout",
     "output_type": "stream",
     "text": [
      "Reloading Tuner from cnn_tuning/cloud_perf/tuner0.json\n"
     ]
    },
    {
     "name": "stderr",
     "output_type": "stream",
     "text": [
      "/usr/local/lib/python3.10/dist-packages/keras/src/layers/convolutional/base_conv.py:107: UserWarning: Do not pass an `input_shape`/`input_dim` argument to a layer. When using Sequential models, prefer using an `Input(shape)` object as the first layer in the model instead.\n",
      "  super().__init__(activity_regularizer=activity_regularizer, **kwargs)\n",
      "/usr/local/lib/python3.10/dist-packages/keras/src/saving/saving_lib.py:713: UserWarning: Skipping variable loading for optimizer 'adam', because it has 2 variables whereas the saved optimizer has 18 variables. \n",
      "  saveable.load_own_variables(weights_store.get(inner_path))\n"
     ]
    }
   ],
   "source": [
    "# Configure tuner\n",
    "tuner = RandomSearch(\n",
    "    build_model,\n",
    "    objective='val_auc',\n",
    "    max_trials=5,\n",
    "    executions_per_trial=2,\n",
    "    directory='cnn_tuning',\n",
    "    project_name='cloud_perf'\n",
    ")\n",
    "\n",
    "# Enhanced callbacks\n",
    "callbacks = [\n",
    "    EarlyStopping(patience=15, restore_best_weights=True, monitor='val_auc'),\n",
    "    ModelCheckpoint('best_model_cnn.keras', save_best_only=True),\n",
    "    ReduceLROnPlateau(factor=0.5, patience=5)\n",
    "]\n",
    "\n",
    "# Hyperparameter search\n",
    "tuner.search(X_train_seq, y_train_seq,\n",
    "             epochs=50,\n",
    "             batch_size=256,\n",
    "             validation_split=0.2,\n",
    "             callbacks=callbacks,\n",
    "             verbose=1)\n",
    "\n",
    "# Get best model\n",
    "best_model = tuner.get_best_models(num_models=1)[0]\n",
    "\n"
   ]
  },
  {
   "cell_type": "code",
   "execution_count": 22,
   "metadata": {
    "execution": {
     "iopub.execute_input": "2025-03-15T20:27:54.867499Z",
     "iopub.status.busy": "2025-03-15T20:27:54.867141Z",
     "iopub.status.idle": "2025-03-15T20:46:06.333751Z",
     "shell.execute_reply": "2025-03-15T20:46:06.332867Z",
     "shell.execute_reply.started": "2025-03-15T20:27:54.867463Z"
    }
   },
   "outputs": [
    {
     "name": "stdout",
     "output_type": "stream",
     "text": [
      "Epoch 1/50\n",
      "\u001b[1m25216/25216\u001b[0m \u001b[32m━━━━━━━━━━━━━━━━━━━━\u001b[0m\u001b[37m\u001b[0m \u001b[1m74s\u001b[0m 3ms/step - accuracy: 0.5561 - auc: 0.4993 - loss: 0.6870 - precision: 0.5561 - recall: 0.9999 - val_accuracy: 0.5552 - val_auc: 0.5000 - val_loss: 0.6870 - val_precision: 0.5552 - val_recall: 1.0000 - learning_rate: 5.0000e-04\n",
      "Epoch 2/50\n",
      "\u001b[1m25216/25216\u001b[0m \u001b[32m━━━━━━━━━━━━━━━━━━━━\u001b[0m\u001b[37m\u001b[0m \u001b[1m64s\u001b[0m 3ms/step - accuracy: 0.5554 - auc: 0.5000 - loss: 0.6870 - precision: 0.5554 - recall: 0.9999 - val_accuracy: 0.5552 - val_auc: 0.5000 - val_loss: 0.6870 - val_precision: 0.5552 - val_recall: 1.0000 - learning_rate: 5.0000e-04\n",
      "Epoch 3/50\n",
      "\u001b[1m25216/25216\u001b[0m \u001b[32m━━━━━━━━━━━━━━━━━━━━\u001b[0m\u001b[37m\u001b[0m \u001b[1m63s\u001b[0m 3ms/step - accuracy: 0.5550 - auc: 0.4996 - loss: 0.6871 - precision: 0.5550 - recall: 1.0000 - val_accuracy: 0.5552 - val_auc: 0.5000 - val_loss: 0.6870 - val_precision: 0.5552 - val_recall: 1.0000 - learning_rate: 5.0000e-04\n",
      "Epoch 4/50\n",
      "\u001b[1m25216/25216\u001b[0m \u001b[32m━━━━━━━━━━━━━━━━━━━━\u001b[0m\u001b[37m\u001b[0m \u001b[1m62s\u001b[0m 2ms/step - accuracy: 0.5551 - auc: 0.5002 - loss: 0.6871 - precision: 0.5551 - recall: 1.0000 - val_accuracy: 0.5552 - val_auc: 0.5000 - val_loss: 0.6870 - val_precision: 0.5552 - val_recall: 1.0000 - learning_rate: 5.0000e-04\n",
      "Epoch 5/50\n",
      "\u001b[1m25216/25216\u001b[0m \u001b[32m━━━━━━━━━━━━━━━━━━━━\u001b[0m\u001b[37m\u001b[0m \u001b[1m64s\u001b[0m 3ms/step - accuracy: 0.5554 - auc: 0.4991 - loss: 0.6870 - precision: 0.5554 - recall: 1.0000 - val_accuracy: 0.5552 - val_auc: 0.5000 - val_loss: 0.6870 - val_precision: 0.5552 - val_recall: 1.0000 - learning_rate: 5.0000e-04\n",
      "Epoch 6/50\n",
      "\u001b[1m25216/25216\u001b[0m \u001b[32m━━━━━━━━━━━━━━━━━━━━\u001b[0m\u001b[37m\u001b[0m \u001b[1m64s\u001b[0m 3ms/step - accuracy: 0.5551 - auc: 0.4997 - loss: 0.6871 - precision: 0.5551 - recall: 1.0000 - val_accuracy: 0.5552 - val_auc: 0.5000 - val_loss: 0.6870 - val_precision: 0.5552 - val_recall: 1.0000 - learning_rate: 5.0000e-04\n",
      "Epoch 7/50\n",
      "\u001b[1m25216/25216\u001b[0m \u001b[32m━━━━━━━━━━━━━━━━━━━━\u001b[0m\u001b[37m\u001b[0m \u001b[1m64s\u001b[0m 3ms/step - accuracy: 0.5557 - auc: 0.4997 - loss: 0.6869 - precision: 0.5557 - recall: 1.0000 - val_accuracy: 0.5552 - val_auc: 0.5000 - val_loss: 0.6870 - val_precision: 0.5552 - val_recall: 1.0000 - learning_rate: 2.5000e-04\n",
      "Epoch 8/50\n",
      "\u001b[1m25216/25216\u001b[0m \u001b[32m━━━━━━━━━━━━━━━━━━━━\u001b[0m\u001b[37m\u001b[0m \u001b[1m64s\u001b[0m 3ms/step - accuracy: 0.5567 - auc: 0.5008 - loss: 0.6867 - precision: 0.5567 - recall: 1.0000 - val_accuracy: 0.5552 - val_auc: 0.5000 - val_loss: 0.6870 - val_precision: 0.5552 - val_recall: 1.0000 - learning_rate: 2.5000e-04\n",
      "Epoch 9/50\n",
      "\u001b[1m25216/25216\u001b[0m \u001b[32m━━━━━━━━━━━━━━━━━━━━\u001b[0m\u001b[37m\u001b[0m \u001b[1m63s\u001b[0m 2ms/step - accuracy: 0.5556 - auc: 0.5001 - loss: 0.6870 - precision: 0.5556 - recall: 1.0000 - val_accuracy: 0.5552 - val_auc: 0.4999 - val_loss: 0.6870 - val_precision: 0.5552 - val_recall: 1.0000 - learning_rate: 2.5000e-04\n",
      "Epoch 10/50\n",
      "\u001b[1m25216/25216\u001b[0m \u001b[32m━━━━━━━━━━━━━━━━━━━━\u001b[0m\u001b[37m\u001b[0m \u001b[1m63s\u001b[0m 3ms/step - accuracy: 0.5550 - auc: 0.4997 - loss: 0.6871 - precision: 0.5550 - recall: 1.0000 - val_accuracy: 0.5552 - val_auc: 0.5000 - val_loss: 0.6870 - val_precision: 0.5552 - val_recall: 1.0000 - learning_rate: 2.5000e-04\n",
      "Epoch 11/50\n",
      "\u001b[1m25216/25216\u001b[0m \u001b[32m━━━━━━━━━━━━━━━━━━━━\u001b[0m\u001b[37m\u001b[0m \u001b[1m64s\u001b[0m 3ms/step - accuracy: 0.5561 - auc: 0.5003 - loss: 0.6868 - precision: 0.5561 - recall: 1.0000 - val_accuracy: 0.5552 - val_auc: 0.5000 - val_loss: 0.6870 - val_precision: 0.5552 - val_recall: 1.0000 - learning_rate: 2.5000e-04\n",
      "Epoch 12/50\n",
      "\u001b[1m25216/25216\u001b[0m \u001b[32m━━━━━━━━━━━━━━━━━━━━\u001b[0m\u001b[37m\u001b[0m \u001b[1m64s\u001b[0m 3ms/step - accuracy: 0.5557 - auc: 0.5001 - loss: 0.6869 - precision: 0.5557 - recall: 1.0000 - val_accuracy: 0.5552 - val_auc: 0.5000 - val_loss: 0.6870 - val_precision: 0.5552 - val_recall: 1.0000 - learning_rate: 1.2500e-04\n",
      "Epoch 13/50\n",
      "\u001b[1m25216/25216\u001b[0m \u001b[32m━━━━━━━━━━━━━━━━━━━━\u001b[0m\u001b[37m\u001b[0m \u001b[1m63s\u001b[0m 3ms/step - accuracy: 0.5560 - auc: 0.5001 - loss: 0.6869 - precision: 0.5560 - recall: 1.0000 - val_accuracy: 0.5552 - val_auc: 0.5000 - val_loss: 0.6870 - val_precision: 0.5552 - val_recall: 1.0000 - learning_rate: 1.2500e-04\n",
      "Epoch 14/50\n",
      "\u001b[1m25216/25216\u001b[0m \u001b[32m━━━━━━━━━━━━━━━━━━━━\u001b[0m\u001b[37m\u001b[0m \u001b[1m62s\u001b[0m 2ms/step - accuracy: 0.5551 - auc: 0.4998 - loss: 0.6871 - precision: 0.5551 - recall: 1.0000 - val_accuracy: 0.5552 - val_auc: 0.4999 - val_loss: 0.6870 - val_precision: 0.5552 - val_recall: 1.0000 - learning_rate: 1.2500e-04\n",
      "Epoch 15/50\n",
      "\u001b[1m25216/25216\u001b[0m \u001b[32m━━━━━━━━━━━━━━━━━━━━\u001b[0m\u001b[37m\u001b[0m \u001b[1m64s\u001b[0m 3ms/step - accuracy: 0.5558 - auc: 0.5001 - loss: 0.6869 - precision: 0.5558 - recall: 1.0000 - val_accuracy: 0.5552 - val_auc: 0.5000 - val_loss: 0.6870 - val_precision: 0.5552 - val_recall: 1.0000 - learning_rate: 1.2500e-04\n",
      "Epoch 16/50\n",
      "\u001b[1m25216/25216\u001b[0m \u001b[32m━━━━━━━━━━━━━━━━━━━━\u001b[0m\u001b[37m\u001b[0m \u001b[1m63s\u001b[0m 3ms/step - accuracy: 0.5558 - auc: 0.5000 - loss: 0.6869 - precision: 0.5558 - recall: 1.0000 - val_accuracy: 0.5552 - val_auc: 0.5000 - val_loss: 0.6871 - val_precision: 0.5552 - val_recall: 1.0000 - learning_rate: 1.2500e-04\n",
      "Epoch 17/50\n",
      "\u001b[1m25216/25216\u001b[0m \u001b[32m━━━━━━━━━━━━━━━━━━━━\u001b[0m\u001b[37m\u001b[0m \u001b[1m63s\u001b[0m 3ms/step - accuracy: 0.5556 - auc: 0.5000 - loss: 0.6869 - precision: 0.5556 - recall: 1.0000 - val_accuracy: 0.5552 - val_auc: 0.4999 - val_loss: 0.6870 - val_precision: 0.5552 - val_recall: 1.0000 - learning_rate: 6.2500e-05\n"
     ]
    }
   ],
   "source": [
    "# Final training\n",
    "history = best_model.fit(\n",
    "    X_train_seq, y_train_seq,\n",
    "    epochs=50,\n",
    "    batch_size=64,\n",
    "    validation_split=0.2,\n",
    "    callbacks=callbacks,\n",
    "    verbose=1\n",
    ")\n",
    "\n"
   ]
  },
  {
   "cell_type": "code",
   "execution_count": 23,
   "metadata": {
    "execution": {
     "iopub.execute_input": "2025-03-15T20:46:06.335692Z",
     "iopub.status.busy": "2025-03-15T20:46:06.335347Z",
     "iopub.status.idle": "2025-03-15T20:46:37.551045Z",
     "shell.execute_reply": "2025-03-15T20:46:37.550037Z",
     "shell.execute_reply.started": "2025-03-15T20:46:06.335656Z"
    }
   },
   "outputs": [
    {
     "name": "stdout",
     "output_type": "stream",
     "text": [
      "\u001b[1m15760/15760\u001b[0m \u001b[32m━━━━━━━━━━━━━━━━━━━━\u001b[0m\u001b[37m\u001b[0m \u001b[1m21s\u001b[0m 1ms/step\n",
      "Classification Report:\n",
      "              precision    recall  f1-score   support\n",
      "\n",
      "           0       0.00      0.00      0.00    224137\n",
      "           1       0.56      1.00      0.71    280170\n",
      "\n",
      "    accuracy                           0.56    504307\n",
      "   macro avg       0.28      0.50      0.36    504307\n",
      "weighted avg       0.31      0.56      0.40    504307\n",
      "\n",
      "\n",
      "Confusion Matrix:\n"
     ]
    },
    {
     "name": "stderr",
     "output_type": "stream",
     "text": [
      "/usr/local/lib/python3.10/dist-packages/sklearn/metrics/_classification.py:1344: UndefinedMetricWarning: Precision and F-score are ill-defined and being set to 0.0 in labels with no predicted samples. Use `zero_division` parameter to control this behavior.\n",
      "  _warn_prf(average, modifier, msg_start, len(result))\n",
      "/usr/local/lib/python3.10/dist-packages/sklearn/metrics/_classification.py:1344: UndefinedMetricWarning: Precision and F-score are ill-defined and being set to 0.0 in labels with no predicted samples. Use `zero_division` parameter to control this behavior.\n",
      "  _warn_prf(average, modifier, msg_start, len(result))\n",
      "/usr/local/lib/python3.10/dist-packages/sklearn/metrics/_classification.py:1344: UndefinedMetricWarning: Precision and F-score are ill-defined and being set to 0.0 in labels with no predicted samples. Use `zero_division` parameter to control this behavior.\n",
      "  _warn_prf(average, modifier, msg_start, len(result))\n"
     ]
    },
    {
     "name": "stdout",
     "output_type": "stream",
     "text": [
      "[[     0 224137]\n",
      " [     0 280170]]\n",
      "\n",
      "AUC-ROC: 0.5000\n"
     ]
    }
   ],
   "source": [
    "# Evaluation\n",
    "y_pred_proba = best_model.predict(X_test_seq)\n",
    "y_pred = (y_pred_proba > 0.5).astype(int)\n",
    "\n",
    "print(\"Classification Report:\")\n",
    "print(classification_report(y_test_seq, y_pred))\n",
    "print(\"\\nConfusion Matrix:\")\n",
    "print(confusion_matrix(y_test_seq, y_pred))\n",
    "print(f\"\\nAUC-ROC: {roc_auc_score(y_test_seq, y_pred_proba):.4f}\")\n",
    "\n"
   ]
  },
  {
   "cell_type": "code",
   "execution_count": 24,
   "metadata": {
    "execution": {
     "iopub.execute_input": "2025-03-15T20:46:37.552336Z",
     "iopub.status.busy": "2025-03-15T20:46:37.552015Z",
     "iopub.status.idle": "2025-03-15T20:46:38.694535Z",
     "shell.execute_reply": "2025-03-15T20:46:38.693522Z",
     "shell.execute_reply.started": "2025-03-15T20:46:37.552280Z"
    }
   },
   "outputs": [
    {
     "data": {
      "image/png": "[encoded data removed]",
      "text/plain": [
       "<Figure size 1800x600 with 5 Axes>"
      ]
     },
     "metadata": {},
     "output_type": "display_data"
    }
   ],
   "source": [
    "# Enhanced Visualization\n",
    "def plot_advanced_metrics():\n",
    "    plt.figure(figsize=(18, 6))\n",
    "    \n",
    "    metrics = ['accuracy', 'loss', 'precision', 'recall', 'auc']\n",
    "    for i, metric in enumerate(metrics):\n",
    "        plt.subplot(2, 3, i+1)\n",
    "        plt.plot(history.history[metric], label='Train')\n",
    "        plt.plot(history.history[f'val_{metric}'], label='Validation')\n",
    "        plt.title(f'Model {metric.capitalize()}')\n",
    "        plt.ylabel(metric.capitalize())\n",
    "        plt.xlabel('Epoch')\n",
    "        plt.legend()\n",
    "    \n",
    "    plt.tight_layout()\n",
    "    plt.show()\n",
    "\n",
    "plot_advanced_metrics()"
   ]
  }
 ],
 "metadata": {
  "kaggle": {
   "accelerator": "nvidiaTeslaT4",
   "dataSources": [
    {
     "datasetId": 3537065,
     "sourceId": 6165137,
     "sourceType": "datasetVersion"
    }
   ],
   "dockerImageVersionId": 30839,
   "isGpuEnabled": true,
   "isInternetEnabled": true,
   "language": "python",
   "sourceType": "notebook"
  },
  "kernelspec": {
   "display_name": "Python 3 (ipykernel)",
   "language": "python",
   "name": "python3"
  },
  "language_info": {
   "codemirror_mode": {
    "name": "ipython",
    "version": 3
   },
   "file_extension": ".py",
   "mimetype": "text/x-python",
   "name": "python",
   "nbconvert_exporter": "python",
   "pygments_lexer": "ipython3",
   "version": "3.9.13"
  }
 },
 "nbformat": 4,
 "nbformat_minor": 4
}
